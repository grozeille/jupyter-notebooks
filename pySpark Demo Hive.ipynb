{
 "cells": [
  {
   "cell_type": "code",
   "execution_count": 3,
   "metadata": {},
   "outputs": [],
   "source": [
    "from pyspark.sql import SparkSession\n",
    "spark = None"
   ]
  },
  {
   "cell_type": "code",
   "execution_count": 4,
   "metadata": {},
   "outputs": [
    {
     "data": {
      "text/html": [
       "\n",
       "            <div>\n",
       "                <p><b>SparkSession - hive</b></p>\n",
       "                \n",
       "        <div>\n",
       "            <p><b>SparkContext</b></p>\n",
       "\n",
       "            <p><a href=\"http://mathias-pc:4040\">Spark UI</a></p>\n",
       "\n",
       "            <dl>\n",
       "              <dt>Version</dt>\n",
       "                <dd><code>v2.4.4</code></dd>\n",
       "              <dt>Master</dt>\n",
       "                <dd><code>local[2]</code></dd>\n",
       "              <dt>AppName</dt>\n",
       "                <dd><code>Demo Hive</code></dd>\n",
       "            </dl>\n",
       "        </div>\n",
       "        \n",
       "            </div>\n",
       "        "
      ],
      "text/plain": [
       "<pyspark.sql.session.SparkSession at 0x192b9e2f808>"
      ]
     },
     "execution_count": 4,
     "metadata": {},
     "output_type": "execute_result"
    }
   ],
   "source": [
    "if spark is not None:\n",
    "    print('Stop previous session')\n",
    "    spark.stop()\n",
    "    spark = None\n",
    "    \n",
    "spark = SparkSession.builder.appName(\"Demo Hive\") \\\n",
    "   .master(\"local[2]\") \\\n",
    "   .config(\"spark.driver.memory\", \"2g\") \\\n",
    "   .config(\"hive.metastore.uris\", \"thrift://localhost:20102\") \\\n",
    "   .enableHiveSupport() \\\n",
    "   .getOrCreate()\n",
    "spark"
   ]
  },
  {
   "cell_type": "markdown",
   "metadata": {},
   "source": [
    "Create a Hive table on top of your CSV file\n",
    "```sql\n",
    "drop table listings;\n",
    "create external table if not exists listings (\n",
    "id INT,\n",
    "station_id INT,\n",
    "commodity_id INT,\n",
    "supply INT,\n",
    "supply_bracket INT,\n",
    "buy_price INT,\n",
    "sell_price INT,\n",
    "demand INT,\n",
    "demand_bracket INT,\n",
    "collected_at INT)\n",
    "ROW FORMAT DELIMITED\n",
    "FIELDS TERMINATED BY ','\n",
    "STORED AS TEXTFILE\n",
    "LOCATION 'file:///C:/Users/Mathias/Work/Projects/jupyter-notebooks/database/listings'\n",
    "TBLPROPERTIES ('serialization.null.format' = '', 'skip.header.line.count' = '1')\n",
    "```"
   ]
  },
  {
   "cell_type": "code",
   "execution_count": 5,
   "metadata": {},
   "outputs": [
    {
     "name": "stdout",
     "output_type": "stream",
     "text": [
      "+----+----------+------------+------+--------------+---------+----------+------+--------------+------------+\n",
      "|  id|station_id|commodity_id|supply|supply_bracket|buy_price|sell_price|demand|demand_bracket|collected_at|\n",
      "+----+----------+------------+------+--------------+---------+----------+------+--------------+------------+\n",
      "|null|      null|        null|  null|          null|     null|      null|  null|          null|        null|\n",
      "|   1|         1|           5|     0|             0|        0|       583|  1810|             2|  1573354346|\n",
      "|   2|         1|           6|     0|             0|        0|      7195|   163|             2|  1573354346|\n",
      "|   3|         1|           7|     0|             0|        0|       812|  1087|             2|  1573354346|\n",
      "|  12|         1|           8|     0|             0|        0|       736|  6159|             3|  1573354346|\n",
      "|  13|         1|           9|     0|             0|        0|      1260|  1966|             3|  1573354346|\n",
      "|  14|         1|          12|     0|             0|        0|       824|   834|             3|  1573354346|\n",
      "|  15|         1|          30|     0|             0|        0|       730|   366|             2|  1573354346|\n",
      "|  16|         1|          31|     0|             0|        0|       489|   637|             2|  1573354346|\n",
      "|  17|         1|          33|     0|             0|        0|       504|   986|             2|  1573354346|\n",
      "+----+----------+------------+------+--------------+---------+----------+------+--------------+------------+\n",
      "\n"
     ]
    }
   ],
   "source": [
    "spark.sql(\"SELECT * FROM default.listings LIMIT 10\").show()"
   ]
  }
 ],
 "metadata": {
  "kernelspec": {
   "display_name": "Python 3",
   "language": "python",
   "name": "python3"
  },
  "language_info": {
   "codemirror_mode": {
    "name": "ipython",
    "version": 3
   },
   "file_extension": ".py",
   "mimetype": "text/x-python",
   "name": "python",
   "nbconvert_exporter": "python",
   "pygments_lexer": "ipython3",
   "version": "3.7.4"
  }
 },
 "nbformat": 4,
 "nbformat_minor": 2
}
